{
 "cells": [
  {
   "cell_type": "code",
   "execution_count": 2,
   "metadata": {},
   "outputs": [],
   "source": [
    "import pandas as pd\n",
    "import chromadb\n",
    "from src.utils.utils_chromadb import search_point\n",
    "# from src.utils.utils_resumes import get_file_extensions\n",
    "from pathlib import Path\n"
   ]
  },
  {
   "cell_type": "code",
   "execution_count": 3,
   "metadata": {},
   "outputs": [],
   "source": [
    "def get_file_extensions(root: Path):\n",
    "    extensions = {}\n",
    "    for p in root.rglob(\"*\"):\n",
    "        if p.is_file():\n",
    "            ext = p.suffix.lower().lstrip(\".\")\n",
    "            if ext:\n",
    "                if ext not in extensions:\n",
    "                    extensions[ext] = 0\n",
    "                extensions[ext] += 1\n",
    "    return extensions"
   ]
  },
  {
   "cell_type": "code",
   "execution_count": 5,
   "metadata": {},
   "outputs": [
    {
     "name": "stdout",
     "output_type": "stream",
     "text": [
      "[Collection(name=job_posts), Collection(name=resumes)]\n"
     ]
    },
    {
     "data": {
      "text/plain": [
       "dict_keys(['png', 'docx', 'jpg', 'webp', 'gif', 'ini', 'jpeg'])"
      ]
     },
     "execution_count": 5,
     "metadata": {},
     "output_type": "execute_result"
    }
   ],
   "source": [
    "client = chromadb.PersistentClient(path=\"./chroma_db\")\n",
    "print(client.list_collections())\n",
    "\n",
    "jobs_collection = client.get_collection(\"job_posts\")\n",
    "resumes =  client.get_collection(\"resumes\")\n",
    "\n",
    "root_dir = Path(\"./data/Resumes Datasets\")\n",
    "\n",
    "get_file_extensions(root_dir).keys()"
   ]
  },
  {
   "cell_type": "code",
   "execution_count": null,
   "metadata": {},
   "outputs": [],
   "source": [
    "all_resume_paths = [p for p in list(root_dir.rglob(\"*\")) if p.is_file()]\n",
    "result = resumes.peek(limit=1)  \n",
    "result"
   ]
  },
  {
   "cell_type": "code",
   "execution_count": null,
   "metadata": {},
   "outputs": [],
   "source": [
    "result = jobs_collection.peek(limit=1)  \n",
    "result"
   ]
  }
 ],
 "metadata": {
  "kernelspec": {
   "display_name": "venv",
   "language": "python",
   "name": "python3"
  },
  "language_info": {
   "codemirror_mode": {
    "name": "ipython",
    "version": 3
   },
   "file_extension": ".py",
   "mimetype": "text/x-python",
   "name": "python",
   "nbconvert_exporter": "python",
   "pygments_lexer": "ipython3",
   "version": "3.11.11"
  }
 },
 "nbformat": 4,
 "nbformat_minor": 2
}
